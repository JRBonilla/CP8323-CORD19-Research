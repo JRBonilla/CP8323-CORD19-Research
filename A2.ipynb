{
 "cells": [
  {
   "cell_type": "markdown",
   "metadata": {},
   "source": [
    "This part selects 10k files from each folder"
   ]
  },
  {
   "cell_type": "code",
   "execution_count": null,
   "metadata": {},
   "outputs": [],
   "source": [
    "import os\n",
    "import random\n",
    "import pandas as pd\n",
    "import json\n",
    "\n",
    "folder_path1 = 'E:\\document_parses\\pdf_json'\n",
    "folder_path2 = 'E:\\document_parses\\pmc_json'\n",
    "\n",
    "all_files1 = [f for f in os.listdir(folder_path1) if f.endswith('.json')]\n",
    "all_files2 = [f for f in os.listdir(folder_path2) if f.endswith('.json')]\n",
    "total_files1 = len(all_files1)\n",
    "print(\"Total number of documents:\", total_files1)\n",
    "total_files2 = len(all_files2)\n",
    "print(\"Total number of documents:\", total_files2)\n",
    "\n",
    "selected_files1 = random.sample(all_files1, min(5000, total_files1))\n",
    "\n",
    "data_frames = []\n",
    "for file in selected_files1:\n",
    "    file_path = os.path.join(folder_path1, file)\n",
    "    with open(file_path, 'r') as f:\n",
    "        data = json.load(f)\n",
    "        data_frames.append(pd.DataFrame([data]))\n",
    "\n",
    "final_df1 = pd.concat(data_frames, ignore_index=True)\n",
    "selected_files2 = random.sample(all_files2, min(5000, total_files2))\n",
    "\n",
    "data_frames = []\n",
    "for file in selected_files2:\n",
    "    file_path = os.path.join(folder_path2, file)\n",
    "    with open(file_path, 'r') as f:\n",
    "        data = json.load(f)\n",
    "        data_frames.append(pd.DataFrame([data]))\n",
    "\n",
    "final_df2 = pd.concat(data_frames, ignore_index=True)\n",
    "\n",
    "df_raw = pd.concat([final_df1, final_df2], ignore_index=True, sort=False)\n",
    "\n",
    "extracted_data = []\n",
    "for index, row in df_raw.iterrows():\n",
    "    paper_id = row['paper_id']\n",
    "    title = row['metadata']['title']\n",
    "\n",
    "    for text_entry in row['body_text']:\n",
    "        text = text_entry['text']\n",
    "        section = text_entry.get('section', 'Unknown')\n",
    "\n",
    "        extracted_data.append({\n",
    "            'text': text,\n",
    "            'paper_id': paper_id,\n",
    "            'title': title,\n",
    "            'section': section\n",
    "        })\n",
    "\n",
    "df_clean = pd.DataFrame(extracted_data, columns=['text', 'paper_id', 'title', 'section'])\n",
    "df_raw.to_csv('../raw.csv', index=True)"
   ]
  },
  {
   "cell_type": "code",
   "execution_count": null,
   "metadata": {},
   "outputs": [],
   "source": [
    "import nltk\n",
    "from nltk import ngrams, FreqDist\n",
    "from nltk.tokenize import word_tokenize, sent_tokenize\n",
    "from nltk.corpus import stopwords\n",
    "import string\n",
    "\n",
    "# Ensure necessary resources are downloaded\n",
    "nltk.download('punkt')\n",
    "nltk.download('stopwords')"
   ]
  },
  {
   "cell_type": "markdown",
   "metadata": {},
   "source": [
    "Some text cleaning functions: remove special chars, change eos char to space, change multiple space to single space"
   ]
  },
  {
   "cell_type": "code",
   "execution_count": null,
   "metadata": {},
   "outputs": [],
   "source": [
    "import re\n",
    "\n",
    "def clean_text(text):\n",
    "    pattern = r'[^\\w\\s,.!?;:\\-\\']'\n",
    "    text = re.sub(pattern, '', text)\n",
    "    text = re.sub(r'[\\r\\n]+', ' ', text)\n",
    "    text = re.sub(r'\\s+', ' ', text)\n",
    "    return text\n",
    "\n",
    "    \n",
    "df_clean['text'] = df_clean['text'].apply(clean_text)"
   ]
  },
  {
   "cell_type": "code",
   "execution_count": null,
   "metadata": {},
   "outputs": [],
   "source": [
    "stop_words = set(stopwords.words('english'))\n",
    "\n",
    "def clean_tokens(tokens):\n",
    "    return [token for token in tokens if token.isalpha() and token not in stop_words]"
   ]
  },
  {
   "cell_type": "markdown",
   "metadata": {},
   "source": [
    "Change first upper case char to lower"
   ]
  },
  {
   "cell_type": "code",
   "execution_count": null,
   "metadata": {},
   "outputs": [],
   "source": [
    "def lowercase_first_character(text):\n",
    "    sentences = sent_tokenize(text)\n",
    "    adjusted_sentences = [sentence[0].lower() + sentence[1:] if sentence else '' for sentence in sentences]\n",
    "    return ' '.join(adjusted_sentences)\n",
    "\n",
    "df_clean['text'] = df_clean['text'].apply(lowercase_first_character)\n",
    "df_clean = df_clean.dropna(subset=['text'])"
   ]
  },
  {
   "cell_type": "markdown",
   "metadata": {},
   "source": [
    "Generate unigram, bigram, trigrams for all"
   ]
  },
  {
   "cell_type": "code",
   "execution_count": null,
   "metadata": {},
   "outputs": [],
   "source": [
    "from nltk import ngrams\n",
    "from collections import Counter\n",
    "\n",
    "stop_words = set(stopwords.words('english'))\n",
    "\n",
    "def clean_tokens(tokens):\n",
    "    return [token for token in tokens if token.isalpha() and token not in stop_words]\n",
    "\n",
    "def generate_ngrams(text, n=3):\n",
    "    tokens = word_tokenize(text)\n",
    "    tokens = clean_tokens(tokens)\n",
    "    all_ngrams = []\n",
    "    for i in range(1, n+1):\n",
    "        all_ngrams.extend(ngrams(tokens, i))\n",
    "    return all_ngrams\n",
    "\n",
    "\n",
    "df_clean['ngrams'] = df_clean['text'].apply(generate_ngrams)\n",
    "all_ngrams_series = df_clean['ngrams'].explode()\n",
    "all_ngrams = all_ngrams_series.tolist()"
   ]
  },
  {
   "cell_type": "code",
   "execution_count": null,
   "metadata": {},
   "outputs": [],
   "source": [
    "df_clean.to_csv('../clean.csv', index=True)"
   ]
  },
  {
   "cell_type": "code",
   "execution_count": null,
   "metadata": {},
   "outputs": [],
   "source": [
    "aggregated_ngrams = df_clean.groupby('paper_id')['ngrams'].sum().reset_index()"
   ]
  },
  {
   "cell_type": "markdown",
   "metadata": {},
   "source": [
    "Perform count on n-grams"
   ]
  },
  {
   "cell_type": "code",
   "execution_count": null,
   "metadata": {},
   "outputs": [],
   "source": [
    "import pickle\n",
    "\n",
    "with open('../all_ngrams.pkl', 'wb') as file:\n",
    "    pickle.dump(all_ngrams, file)\n",
    "\n",
    "with open('../all_ngrams.pkl', 'rb') as file:\n",
    "    all_ngrams = pickle.load(file)"
   ]
  },
  {
   "cell_type": "code",
   "execution_count": null,
   "metadata": {},
   "outputs": [],
   "source": [
    "ngram_freq = Counter(all_ngrams)\n",
    "ngram_freq"
   ]
  },
  {
   "cell_type": "code",
   "execution_count": null,
   "metadata": {},
   "outputs": [],
   "source": [
    "import pickle\n",
    "\n",
    "with open('../ngram_freq.pkl', 'wb') as file:\n",
    "    pickle.dump(ngram_freq, file)"
   ]
  },
  {
   "cell_type": "code",
   "execution_count": null,
   "metadata": {},
   "outputs": [],
   "source": [
    "import pickle\n",
    "with open('../ngram_freq.pkl', 'rb') as file:\n",
    "    ngram_freq = pickle.load(file)"
   ]
  },
  {
   "cell_type": "code",
   "execution_count": null,
   "metadata": {},
   "outputs": [],
   "source": [
    "import numpy as np\n",
    "df_dict = {}\n",
    "for ngrams_list in aggregated_ngrams['ngrams']:\n",
    "    for ngram in set(ngrams_list):\n",
    "        df_dict[ngram] = df_dict.get(ngram, 0) + 1\n",
    "\n",
    "# Step 3 & 4: Calculate IDF for each n-gram\n",
    "N = len(aggregated_ngrams)\n",
    "idf = {ngram: np.log((1 + N) / (1 + df)) + 1 for ngram, df in df_dict.items()}\n",
    "\n",
    "# Function to calculate TF for each n-gram in a document\n",
    "def calculate_tf(ngrams_list):\n",
    "    ngram_counts = pd.Series(ngrams_list).value_counts()\n",
    "    tf = ngram_counts / len(ngrams_list)\n",
    "    return tf\n",
    "\n",
    "# Function to calculate TF-IDF for each n-gram in a document\n",
    "def calculate_tf_idf(ngrams_list):\n",
    "    tf = calculate_tf(ngrams_list)\n",
    "    tf_idf = {ngram: (tf_val * idf[ngram]) for ngram, tf_val in tf.items()}\n",
    "    return tf_idf\n",
    "\n",
    "# Step 5: Calculate TF-IDF for each n-gram in each document\n",
    "aggregated_ngrams['tf_idf'] = aggregated_ngrams['ngrams'].apply(calculate_tf_idf)\n",
    "\n",
    "# Step 6: (Optional) Aggregate TF-IDF scores for each n-gram across all documents\n",
    "tf_idf_aggregated = {}\n",
    "for index, row in aggregated_ngrams.iterrows():\n",
    "    for ngram, score in row['tf_idf'].items():\n",
    "        if ngram in tf_idf_aggregated:\n",
    "            tf_idf_aggregated[ngram] += score\n",
    "        else:\n",
    "            tf_idf_aggregated[ngram] = score"
   ]
  },
  {
   "cell_type": "code",
   "execution_count": null,
   "metadata": {},
   "outputs": [],
   "source": [
    "len(aggregated_ngrams)"
   ]
  },
  {
   "cell_type": "code",
   "execution_count": null,
   "metadata": {},
   "outputs": [],
   "source": [
    "len(tf_idf_aggregated)"
   ]
  },
  {
   "cell_type": "code",
   "execution_count": null,
   "metadata": {},
   "outputs": [],
   "source": [
    "import pickle\n",
    "\n",
    "with open('../tf_idf_aggregated.pkl', 'wb') as file:\n",
    "    pickle.dump(tf_idf_aggregated, file)"
   ]
  },
  {
   "cell_type": "code",
   "execution_count": 2,
   "metadata": {},
   "outputs": [],
   "source": [
    "import pickle\n",
    "with open('../tf_idf_aggregated.pkl', 'rb') as file:\n",
    "    tf_idf_aggregated = pickle.load(file)"
   ]
  },
  {
   "cell_type": "code",
   "execution_count": null,
   "metadata": {},
   "outputs": [],
   "source": [
    "import matplotlib.pyplot as plt\n",
    "from wordcloud import WordCloud\n",
    "\n",
    "# Step 1: Convert n-grams from tuples to strings and prepare the data for the WordCloud\n",
    "# Assuming `tf_idf_aggregated` is your dictionary with n-grams as keys and aggregated TF-IDF scores as values\n",
    "ngram_str_scores = {' '.join(ngram): score for ngram, score in tf_idf_aggregated.items()}\n",
    "\n",
    "# Step 2: Generate the word cloud\n",
    "wordcloud = WordCloud(width=800, height=400, background_color ='white').generate_from_frequencies(ngram_str_scores)\n",
    "\n",
    "# Step 3: Display the word cloud using matplotlib\n",
    "plt.figure(figsize=(10, 5))\n",
    "plt.imshow(wordcloud, interpolation='bilinear')\n",
    "plt.axis('off')  # Hide the axes\n",
    "plt.show()"
   ]
  },
  {
   "cell_type": "markdown",
   "metadata": {},
   "source": [
    "The part below follows the kaggle tutorial"
   ]
  },
  {
   "cell_type": "code",
   "execution_count": 3,
   "metadata": {},
   "outputs": [],
   "source": [
    "import re\n",
    "import pandas as pd\n",
    "import requests\n",
    "import spacy\n",
    "from spacy import displacy\n",
    "\n",
    "\n",
    "from spacy.matcher import Matcher \n",
    "from spacy.tokens import Span \n",
    "\n",
    "import networkx as nx\n",
    "\n",
    "import matplotlib.pyplot as plt\n",
    "from tqdm import tqdm"
   ]
  },
  {
   "cell_type": "code",
   "execution_count": 22,
   "metadata": {
    "vscode": {
     "languageId": "powershell"
    }
   },
   "outputs": [
    {
     "name": "stdout",
     "output_type": "stream",
     "text": [
      "\u001b[38;5;2m✔ Download and installation successful\u001b[0m\n",
      "You can now load the package via spacy.load('en_core_web_md')\n"
     ]
    }
   ],
   "source": [
    "spacy.cli.download(\"en_core_web_md\")"
   ]
  },
  {
   "cell_type": "code",
   "execution_count": 23,
   "metadata": {},
   "outputs": [],
   "source": [
    "nlp = spacy.load(\"en_core_web_md\")"
   ]
  },
  {
   "cell_type": "code",
   "execution_count": null,
   "metadata": {},
   "outputs": [],
   "source": [
    "def get_relation(sent):\n",
    "\n",
    "  doc = nlp(sent)\n",
    "  matcher = Matcher(nlp.vocab)\n",
    "\n",
    "  #define the pattern \n",
    "  pattern = [[{'DEP':'ROOT'}, \n",
    "            {'DEP':'prep','OP':\"?\"},\n",
    "            {'DEP':'agent','OP':\"?\"},  \n",
    "            {'POS':'ADJ','OP':\"?\"}]]\n",
    "\n",
    "  matcher.add(\"matching_1\", pattern) \n",
    "\n",
    "  matches = matcher(doc)\n",
    "  if matches:\n",
    "        k = len(matches) - 1\n",
    "        span = doc[matches[k][1]:matches[k][2]]\n",
    "        return span.text\n",
    "  else:\n",
    "        return None"
   ]
  },
  {
   "cell_type": "code",
   "execution_count": null,
   "metadata": {},
   "outputs": [],
   "source": [
    "df = pd.read_csv(\"../clean.csv\")\n",
    "df = df.dropna(subset=['text'])"
   ]
  },
  {
   "cell_type": "code",
   "execution_count": null,
   "metadata": {},
   "outputs": [],
   "source": [
    "df = df[['paper_id', 'text', 'section']]"
   ]
  },
  {
   "cell_type": "code",
   "execution_count": null,
   "metadata": {},
   "outputs": [],
   "source": [
    "from nltk.tokenize import sent_tokenize\n",
    "import pandas as pd\n",
    "\n",
    "df['text'] = df['text'].apply(sent_tokenize)\n",
    "df = df.explode('text')\n",
    "df.to_csv(\"../sent.csv\")"
   ]
  },
  {
   "cell_type": "code",
   "execution_count": 24,
   "metadata": {},
   "outputs": [],
   "source": [
    "df = pd.read_csv(\"../sent.csv\")"
   ]
  },
  {
   "cell_type": "code",
   "execution_count": 29,
   "metadata": {},
   "outputs": [
    {
     "name": "stderr",
     "output_type": "stream",
     "text": [
      "100%|██████████| 3/3 [00:00<00:00, 399.32it/s]"
     ]
    },
    {
     "name": "stdout",
     "output_type": "stream",
     "text": [
      "[['brown fox', 'lazy dog'], ['SpaCy', 'language processing'], ['film', '200 patents']]\n"
     ]
    },
    {
     "name": "stderr",
     "output_type": "stream",
     "text": [
      "\n"
     ]
    }
   ],
   "source": [
    "def get_entities(texts):\n",
    "    entities = []\n",
    "    for doc in tqdm(nlp.pipe(texts, batch_size=20), total=len(texts)):\n",
    "        ent1 = ent2 = \"\"\n",
    "        prv_tok_dep = prv_tok_text = \"\"\n",
    "        compound_or_modifier = \"\"\n",
    "\n",
    "        for tok in doc:\n",
    "            if tok.dep_ == \"punct\":\n",
    "                continue  # Skip punctuation tokens\n",
    "\n",
    "            # Handle compound or modifier tokens\n",
    "            if tok.dep_ == \"compound\" or tok.dep_.endswith(\"mod\"):\n",
    "                compound_or_modifier = f\"{prv_tok_text + ' ' if prv_tok_dep == 'compound' else ''}{tok.text}\"\n",
    "\n",
    "            # Entity 1: subject\n",
    "            if \"subj\" in tok.dep_:\n",
    "                ent1 = f\"{compound_or_modifier} {tok.text}\".strip()\n",
    "                compound_or_modifier = \"\"  # Reset after use\n",
    "\n",
    "            # Entity 2: object\n",
    "            if \"obj\" in tok.dep_:\n",
    "                ent2 = f\"{compound_or_modifier} {tok.text}\".strip()\n",
    "\n",
    "            # Update previous token variables\n",
    "            prv_tok_dep, prv_tok_text = tok.dep_, tok.text\n",
    "\n",
    "        entities.append([ent1, ent2])\n",
    "\n",
    "    return entities\n",
    "\n",
    "# Example usage\n",
    "texts = [\"The quick brown fox jumps over the lazy dog.\", \"SpaCy is an open-source software library for advanced natural language processing.\", \"the film had 200 patents\"]\n",
    "entities = get_entities(texts)\n",
    "print(entities)"
   ]
  },
  {
   "cell_type": "code",
   "execution_count": null,
   "metadata": {},
   "outputs": [],
   "source": [
    "texts = df['text'].tolist()"
   ]
  },
  {
   "cell_type": "code",
   "execution_count": null,
   "metadata": {},
   "outputs": [],
   "source": [
    "entities_list = get_entities(texts)"
   ]
  },
  {
   "cell_type": "code",
   "execution_count": null,
   "metadata": {},
   "outputs": [],
   "source": [
    "import pickle\n",
    "with open('../entities_list.pkl', 'wb') as f:\n",
    "    pickle.dump(entities_list, f)"
   ]
  },
  {
   "cell_type": "code",
   "execution_count": 1,
   "metadata": {},
   "outputs": [],
   "source": [
    "import pickle\n",
    "with open('../entities_list.pkl', 'rb') as file:\n",
    "    entities_list = pickle.load(file)"
   ]
  },
  {
   "cell_type": "code",
   "execution_count": null,
   "metadata": {},
   "outputs": [],
   "source": [
    "relations = [get_relation(i) for i in tqdm(df['text'])]"
   ]
  },
  {
   "cell_type": "code",
   "execution_count": null,
   "metadata": {},
   "outputs": [],
   "source": [
    "import pickle\n",
    "with open('../relations_list.pkl', 'wb') as f:\n",
    "    pickle.dump(relations, f)"
   ]
  },
  {
   "cell_type": "code",
   "execution_count": 3,
   "metadata": {},
   "outputs": [],
   "source": [
    "import pickle\n",
    "with open('../relations_list.pkl', 'rb') as file:\n",
    "    relations = pickle.load(file)"
   ]
  },
  {
   "cell_type": "code",
   "execution_count": 7,
   "metadata": {},
   "outputs": [
    {
     "data": {
      "text/plain": [
       "is                 78890\n",
       "was                28032\n",
       "are                25918\n",
       "used               18701\n",
       "were               17746\n",
       "found              14089\n",
       "al                 13517\n",
       "showed             11985\n",
       "reported           10958\n",
       "be                  9678\n",
       "had                 9039\n",
       "have                8733\n",
       "performed           7138\n",
       "shown               6866\n",
       "has                 6694\n",
       "shows               6593\n",
       "included            6253\n",
       "suggest             5630\n",
       "include             5612\n",
       "considered          5151\n",
       "demonstrated        4997\n",
       "observed            4747\n",
       "show                4703\n",
       "revealed            4387\n",
       "associated with     4290\n",
       "identified          3873\n",
       "suggests            3831\n",
       ".                   3761\n",
       "developed           3701\n",
       "shown in            3649\n",
       "suggested           3622\n",
       "provide             3422\n",
       "need                3394\n",
       "indicate            3372\n",
       "indicated           3356\n",
       "conducted           3313\n",
       "use                 3037\n",
       "needed              3020\n",
       "provides            2943\n",
       "been                2924\n",
       "carried             2895\n",
       "is important        2881\n",
       "see                 2801\n",
       "indicates           2644\n",
       "required            2632\n",
       "analyzed            2618\n",
       "based on            2604\n",
       "used for            2594\n",
       "provided            2522\n",
       "in                  2502\n",
       "Name: count, dtype: int64"
      ]
     },
     "execution_count": 7,
     "metadata": {},
     "output_type": "execute_result"
    }
   ],
   "source": [
    "import pandas as pd\n",
    "pd.Series(relations).value_counts()[:50]"
   ]
  },
  {
   "cell_type": "code",
   "execution_count": 9,
   "metadata": {},
   "outputs": [],
   "source": [
    "source = [i[0] for i in entities_list]\n",
    "\n",
    "# extract object\n",
    "target = [i[1] for i in entities_list]\n",
    "\n",
    "kg_df = pd.DataFrame({'source':source, 'target':target, 'edge':relations})"
   ]
  },
  {
   "cell_type": "code",
   "execution_count": 13,
   "metadata": {},
   "outputs": [],
   "source": [
    "kg_df.to_csv('../entity_relation_df.csv')"
   ]
  },
  {
   "cell_type": "code",
   "execution_count": 49,
   "metadata": {},
   "outputs": [],
   "source": [
    "kg_df = pd.read_csv('../entity_relation_df.csv')"
   ]
  },
  {
   "cell_type": "code",
   "execution_count": 50,
   "metadata": {},
   "outputs": [],
   "source": [
    "import numpy as np\n",
    "#clean kg_df based on null rows and filter based on if either entity is high in tf_idf\n",
    "kg_df = kg_df.replace(\"\", np.nan).dropna()"
   ]
  },
  {
   "cell_type": "code",
   "execution_count": 51,
   "metadata": {},
   "outputs": [
    {
     "name": "stderr",
     "output_type": "stream",
     "text": [
      "Depluralizing entities: 100%|██████████| 1256635/1256635 [00:55<00:00, 22746.09it/s]\n",
      "Depluralizing entities: 100%|██████████| 1256635/1256635 [00:58<00:00, 21648.89it/s]\n"
     ]
    }
   ],
   "source": [
    "import inflect\n",
    "from tqdm import tqdm\n",
    "#de-plurize entities\n",
    "p = inflect.engine()\n",
    "tqdm.pandas(desc=\"Depluralizing entities\")\n",
    "kg_df['source'] = kg_df['source'].progress_apply(lambda x: p.singular_noun(x) if p.singular_noun(x) else x)\n",
    "tqdm.pandas(desc=\"Depluralizing entities\")\n",
    "kg_df['target'] = kg_df['target'].progress_apply(lambda x: p.singular_noun(x) if p.singular_noun(x) else x)"
   ]
  },
  {
   "cell_type": "code",
   "execution_count": 52,
   "metadata": {},
   "outputs": [
    {
     "data": {
      "text/html": [
       "<div>\n",
       "<style scoped>\n",
       "    .dataframe tbody tr th:only-of-type {\n",
       "        vertical-align: middle;\n",
       "    }\n",
       "\n",
       "    .dataframe tbody tr th {\n",
       "        vertical-align: top;\n",
       "    }\n",
       "\n",
       "    .dataframe thead th {\n",
       "        text-align: right;\n",
       "    }\n",
       "</style>\n",
       "<table border=\"1\" class=\"dataframe\">\n",
       "  <thead>\n",
       "    <tr style=\"text-align: right;\">\n",
       "      <th></th>\n",
       "      <th>Unnamed: 0</th>\n",
       "      <th>source</th>\n",
       "      <th>target</th>\n",
       "      <th>edge</th>\n",
       "    </tr>\n",
       "  </thead>\n",
       "  <tbody>\n",
       "    <tr>\n",
       "      <th>0</th>\n",
       "      <td>0</td>\n",
       "      <td>I</td>\n",
       "      <td>dissimilar protein product</td>\n",
       "      <td>defined molecular</td>\n",
       "    </tr>\n",
       "    <tr>\n",
       "      <th>1</th>\n",
       "      <td>1</td>\n",
       "      <td>Oldstone</td>\n",
       "      <td>1987  Oldstone</td>\n",
       "      <td>reviewed in</td>\n",
       "    </tr>\n",
       "    <tr>\n",
       "      <th>4</th>\n",
       "      <td>4</td>\n",
       "      <td>immune  that</td>\n",
       "      <td>first  viru</td>\n",
       "      <td>be</td>\n",
       "    </tr>\n",
       "    <tr>\n",
       "      <th>7</th>\n",
       "      <td>7</td>\n",
       "      <td>thi</td>\n",
       "      <td>molecular  mimicry</td>\n",
       "      <td>is</td>\n",
       "    </tr>\n",
       "    <tr>\n",
       "      <th>8</th>\n",
       "      <td>8</td>\n",
       "      <td>basic acetylcholine that</td>\n",
       "      <td>membrane synapse</td>\n",
       "      <td>occur</td>\n",
       "    </tr>\n",
       "    <tr>\n",
       "      <th>...</th>\n",
       "      <td>...</td>\n",
       "      <td>...</td>\n",
       "      <td>...</td>\n",
       "      <td>...</td>\n",
       "    </tr>\n",
       "    <tr>\n",
       "      <th>1428310</th>\n",
       "      <td>1428310</td>\n",
       "      <td>antibody positivity</td>\n",
       "      <td>frequent working class person</td>\n",
       "      <td>was similar</td>\n",
       "    </tr>\n",
       "    <tr>\n",
       "      <th>1428311</th>\n",
       "      <td>1428311</td>\n",
       "      <td>female  female</td>\n",
       "      <td>other age group</td>\n",
       "      <td>was high</td>\n",
       "    </tr>\n",
       "    <tr>\n",
       "      <th>1428312</th>\n",
       "      <td>1428312</td>\n",
       "      <td>where farming movement</td>\n",
       "      <td>sea  forest</td>\n",
       "      <td>was</td>\n",
       "    </tr>\n",
       "    <tr>\n",
       "      <th>1428313</th>\n",
       "      <td>1428313</td>\n",
       "      <td>research</td>\n",
       "      <td>public funding sector</td>\n",
       "      <td>receive</td>\n",
       "    </tr>\n",
       "    <tr>\n",
       "      <th>1428314</th>\n",
       "      <td>1428314</td>\n",
       "      <td>author</td>\n",
       "      <td>interest</td>\n",
       "      <td>declare</td>\n",
       "    </tr>\n",
       "  </tbody>\n",
       "</table>\n",
       "<p>1256635 rows × 4 columns</p>\n",
       "</div>"
      ],
      "text/plain": [
       "         Unnamed: 0                    source                         target  \\\n",
       "0                 0                         I     dissimilar protein product   \n",
       "1                 1                  Oldstone                 1987  Oldstone   \n",
       "4                 4              immune  that                    first  viru   \n",
       "7                 7                       thi             molecular  mimicry   \n",
       "8                 8  basic acetylcholine that               membrane synapse   \n",
       "...             ...                       ...                            ...   \n",
       "1428310     1428310       antibody positivity  frequent working class person   \n",
       "1428311     1428311            female  female                other age group   \n",
       "1428312     1428312    where farming movement                    sea  forest   \n",
       "1428313     1428313                  research          public funding sector   \n",
       "1428314     1428314                    author                       interest   \n",
       "\n",
       "                      edge  \n",
       "0        defined molecular  \n",
       "1              reviewed in  \n",
       "4                       be  \n",
       "7                       is  \n",
       "8                    occur  \n",
       "...                    ...  \n",
       "1428310        was similar  \n",
       "1428311           was high  \n",
       "1428312                was  \n",
       "1428313            receive  \n",
       "1428314            declare  \n",
       "\n",
       "[1256635 rows x 4 columns]"
      ]
     },
     "execution_count": 52,
     "metadata": {},
     "output_type": "execute_result"
    }
   ],
   "source": [
    "kg_df"
   ]
  },
  {
   "cell_type": "code",
   "execution_count": 54,
   "metadata": {},
   "outputs": [],
   "source": [
    "kg_df=kg_df.drop(['Unnamed: 0'], axis=1)"
   ]
  },
  {
   "cell_type": "code",
   "execution_count": 56,
   "metadata": {},
   "outputs": [],
   "source": [
    "kg_df.to_csv('../entity_relation_df_singular.csv')"
   ]
  },
  {
   "cell_type": "code",
   "execution_count": 36,
   "metadata": {},
   "outputs": [],
   "source": [
    "kg_df = pd.read_csv('../entity_relation_df_singular.csv')"
   ]
  },
  {
   "cell_type": "markdown",
   "metadata": {},
   "source": [
    "manipulate td_idf_aggregated to remove stop words and then find the most important words"
   ]
  },
  {
   "cell_type": "code",
   "execution_count": 12,
   "metadata": {},
   "outputs": [],
   "source": [
    "import spacy\n",
    "\n",
    "# Load English tokenizer, tagger, parser, NER, and word vectors\n",
    "nlp = spacy.load(\"en_core_web_md\")\n",
    "\n",
    "# spaCy's stop words\n",
    "stop_words = nlp.Defaults.stop_words"
   ]
  },
  {
   "cell_type": "markdown",
   "metadata": {},
   "source": [
    "This is for removing stop words"
   ]
  },
  {
   "cell_type": "code",
   "execution_count": 22,
   "metadata": {},
   "outputs": [
    {
     "name": "stderr",
     "output_type": "stream",
     "text": [
      "Filtering n-grams: 100%|██████████| 25176598/25176598 [00:19<00:00, 1321759.30it/s]\n"
     ]
    }
   ],
   "source": [
    "from tqdm import tqdm\n",
    "filtered_tf_idf = {\n",
    "    ngram: score\n",
    "    for ngram, score in tqdm(tf_idf_aggregated.items(), desc=\"Filtering n-grams\")\n",
    "    if not any(word in stop_words for word in ngram)\n",
    "}\n"
   ]
  },
  {
   "cell_type": "code",
   "execution_count": 23,
   "metadata": {},
   "outputs": [],
   "source": [
    "sorted_filtered_tf_idf = dict(sorted(filtered_tf_idf.items(), key=lambda item: item[1], reverse=True))"
   ]
  },
  {
   "cell_type": "markdown",
   "metadata": {},
   "source": [
    "to process verbs, can only process a little, so processing the top 100 of sorted filtered tf idf"
   ]
  },
  {
   "cell_type": "code",
   "execution_count": 37,
   "metadata": {},
   "outputs": [
    {
     "name": "stderr",
     "output_type": "stream",
     "text": [
      "Processing n-grams: 50it [00:00, 285.23it/s]\n"
     ]
    }
   ],
   "source": [
    "from itertools import islice\n",
    "\n",
    "filtered_tf_idf = {}\n",
    "for ngram, score in tqdm(islice(sorted_filtered_tf_idf.items(), 50), desc=\"Processing n-grams\"):\n",
    "    # Process each word in the n-gram separately and check for verbs\n",
    "    contains_verb = False\n",
    "    for word in ngram:\n",
    "        # Process the single word with spaCy\n",
    "        doc = nlp(word)\n",
    "        # If the word is a verb or a stop word, mark the flag\n",
    "        if doc[0].pos_ == \"VERB\":\n",
    "            contains_verb = True\n",
    "            break  # No need to check further words in this n-gram\n",
    "    \n",
    "    # If the n-gram does not contain a verb, add it to the filtered dictionary\n",
    "    if not contains_verb:\n",
    "        filtered_tf_idf[ngram] = score\n",
    "\n",
    "# Sorting the filtered dictionary by TF-IDF scores in descending order\n",
    "verbless_sorted_filtered_tf_idf = dict(sorted(filtered_tf_idf.items(), key=lambda item: item[1], reverse=True))"
   ]
  },
  {
   "cell_type": "markdown",
   "metadata": {},
   "source": [
    "convert to singular"
   ]
  },
  {
   "cell_type": "code",
   "execution_count": 40,
   "metadata": {},
   "outputs": [],
   "source": [
    "import inflect\n",
    "from tqdm import tqdm\n",
    "#de-plurize entities\n",
    "p = inflect.engine()\n",
    "singular_verbless_sorted_filtered_tf_idf = {\n",
    "    tuple(p.singular_noun(word) if p.singular_noun(word) else word for word in ngram): score\n",
    "    for ngram, score in verbless_sorted_filtered_tf_idf.items()\n",
    "}"
   ]
  },
  {
   "cell_type": "code",
   "execution_count": 41,
   "metadata": {},
   "outputs": [
    {
     "data": {
      "text/plain": [
       "{('patient',): 12.552837637899533,\n",
       " ('et',): 22.518587770834973,\n",
       " ('nil',): 21.03731062289467,\n",
       " ('conflict', 'interest'): 20.4165972907722,\n",
       " ('conflict',): 18.912578357836942,\n",
       " ('cell',): 9.021202359498355,\n",
       " ('interest',): 16.21160914252185,\n",
       " ('datum',): 16.09037595408782,\n",
       " ('health',): 15.704372962778741,\n",
       " ('infection',): 14.122725907086707,\n",
       " ('author',): 12.464997925575148,\n",
       " ('disease',): 11.941819774715377,\n",
       " ('pandemic',): 11.875904805577559,\n",
       " ('viru',): 11.464092845387125,\n",
       " ('participant',): 10.859158264254058,\n",
       " ('case',): 10.703156164648888,\n",
       " ('clinical',): 10.60822530554617,\n",
       " ('al',): 10.592808647876417,\n",
       " ('et', 'al'): 10.533046503008954,\n",
       " ('risk',): 10.479985164744818,\n",
       " ('study',): 10.472859595100184,\n",
       " ('vaccine',): 10.46822233723253,\n",
       " ('Fig',): 10.432221895579678,\n",
       " ('viral',): 10.388189787205611,\n",
       " ('treatment',): 10.12285141655043,\n",
       " ('time',): 9.880356790657272,\n",
       " ('lungenparenchymerkrankungen',): 9.517293186416572,\n",
       " ('model',): 9.482579645320323,\n",
       " ('Figure',): 9.377904110350556,\n",
       " ('result',): 9.335340001989685,\n",
       " ('p',): 9.069634942108047,\n",
       " ('protein',): 8.989113129662472,\n",
       " ('symptom',): 8.881550762365894,\n",
       " ('number',): 8.856569998583096,\n",
       " ('analysi',): 8.821697909923923,\n",
       " ('social',): 8.51414948565645,\n",
       " ('child',): 8.476629751980607,\n",
       " ('respiratory',): 8.451008657608602,\n",
       " ('student',): 8.197506648552217,\n",
       " ('group',): 8.165034652451862,\n",
       " ('vaccination',): 7.963967784192882,\n",
       " ('day',): 7.933626687643308}"
      ]
     },
     "execution_count": 41,
     "metadata": {},
     "output_type": "execute_result"
    }
   ],
   "source": [
    "singular_verbless_sorted_filtered_tf_idf"
   ]
  },
  {
   "cell_type": "code",
   "execution_count": 20,
   "metadata": {},
   "outputs": [],
   "source": [
    "import pickle\n",
    "with open('../sorted_filtered_tf_idf.pkl', 'wb') as f:\n",
    "    pickle.dump(sorted_filtered_tf_idf, f)"
   ]
  },
  {
   "cell_type": "code",
   "execution_count": 42,
   "metadata": {},
   "outputs": [],
   "source": [
    "import pickle\n",
    "with open('../verbless_sorted_filtered_tf_idf_100.pkl', 'wb') as f:\n",
    "    pickle.dump(singular_verbless_sorted_filtered_tf_idf, f)"
   ]
  },
  {
   "cell_type": "code",
   "execution_count": 43,
   "metadata": {},
   "outputs": [],
   "source": [
    "unique_entities = set(word for ngram in verbless_sorted_filtered_tf_idf.keys() for word in ngram)\n",
    "\n",
    "filtered_df = kg_df[kg_df['source'].isin(unique_entities) | kg_df['target'].isin(unique_entities)]"
   ]
  },
  {
   "cell_type": "code",
   "execution_count": 46,
   "metadata": {},
   "outputs": [
    {
     "data": {
      "text/html": [
       "<div>\n",
       "<style scoped>\n",
       "    .dataframe tbody tr th:only-of-type {\n",
       "        vertical-align: middle;\n",
       "    }\n",
       "\n",
       "    .dataframe tbody tr th {\n",
       "        vertical-align: top;\n",
       "    }\n",
       "\n",
       "    .dataframe thead th {\n",
       "        text-align: right;\n",
       "    }\n",
       "</style>\n",
       "<table border=\"1\" class=\"dataframe\">\n",
       "  <thead>\n",
       "    <tr style=\"text-align: right;\">\n",
       "      <th></th>\n",
       "      <th>Unnamed: 0</th>\n",
       "      <th>source</th>\n",
       "      <th>target</th>\n",
       "      <th>edge</th>\n",
       "    </tr>\n",
       "  </thead>\n",
       "  <tbody>\n",
       "    <tr>\n",
       "      <th>11</th>\n",
       "      <td>16</td>\n",
       "      <td>viral  protein</td>\n",
       "      <td>cell</td>\n",
       "      <td>is useful</td>\n",
       "    </tr>\n",
       "    <tr>\n",
       "      <th>31</th>\n",
       "      <td>53</td>\n",
       "      <td>protein</td>\n",
       "      <td>respective andor T disease</td>\n",
       "      <td>implicated as likely</td>\n",
       "    </tr>\n",
       "    <tr>\n",
       "      <th>86</th>\n",
       "      <td>130</td>\n",
       "      <td>patient</td>\n",
       "      <td>Swedish  immunologist</td>\n",
       "      <td>mount immune</td>\n",
       "    </tr>\n",
       "    <tr>\n",
       "      <th>138</th>\n",
       "      <td>187</td>\n",
       "      <td>possibly COVID-19 COVID-19</td>\n",
       "      <td>cell</td>\n",
       "      <td>shown</td>\n",
       "    </tr>\n",
       "    <tr>\n",
       "      <th>235</th>\n",
       "      <td>289</td>\n",
       "      <td>model</td>\n",
       "      <td>aggregate Organization Strategic region</td>\n",
       "      <td>is</td>\n",
       "    </tr>\n",
       "    <tr>\n",
       "      <th>...</th>\n",
       "      <td>...</td>\n",
       "      <td>...</td>\n",
       "      <td>...</td>\n",
       "      <td>...</td>\n",
       "    </tr>\n",
       "    <tr>\n",
       "      <th>1256309</th>\n",
       "      <td>1427973</td>\n",
       "      <td>model</td>\n",
       "      <td>few  year</td>\n",
       "      <td>note</td>\n",
       "    </tr>\n",
       "    <tr>\n",
       "      <th>1256416</th>\n",
       "      <td>1428084</td>\n",
       "      <td>model</td>\n",
       "      <td>documentclass12ptminimal usepackageamsmath use...</td>\n",
       "      <td>fall</td>\n",
       "    </tr>\n",
       "    <tr>\n",
       "      <th>1256418</th>\n",
       "      <td>1428087</td>\n",
       "      <td>model</td>\n",
       "      <td>2023</td>\n",
       "      <td>estimated</td>\n",
       "    </tr>\n",
       "    <tr>\n",
       "      <th>1256439</th>\n",
       "      <td>1428109</td>\n",
       "      <td>pandemic</td>\n",
       "      <td>heterogeneous  it</td>\n",
       "      <td>predict</td>\n",
       "    </tr>\n",
       "    <tr>\n",
       "      <th>1256634</th>\n",
       "      <td>1428314</td>\n",
       "      <td>author</td>\n",
       "      <td>interest</td>\n",
       "      <td>declare</td>\n",
       "    </tr>\n",
       "  </tbody>\n",
       "</table>\n",
       "<p>27316 rows × 4 columns</p>\n",
       "</div>"
      ],
      "text/plain": [
       "         Unnamed: 0                      source  \\\n",
       "11               16              viral  protein   \n",
       "31               53                     protein   \n",
       "86              130                     patient   \n",
       "138             187  possibly COVID-19 COVID-19   \n",
       "235             289                       model   \n",
       "...             ...                         ...   \n",
       "1256309     1427973                       model   \n",
       "1256416     1428084                       model   \n",
       "1256418     1428087                       model   \n",
       "1256439     1428109                    pandemic   \n",
       "1256634     1428314                      author   \n",
       "\n",
       "                                                    target  \\\n",
       "11                                                    cell   \n",
       "31                              respective andor T disease   \n",
       "86                                   Swedish  immunologist   \n",
       "138                                                   cell   \n",
       "235                aggregate Organization Strategic region   \n",
       "...                                                    ...   \n",
       "1256309                                          few  year   \n",
       "1256416  documentclass12ptminimal usepackageamsmath use...   \n",
       "1256418                                               2023   \n",
       "1256439                                  heterogeneous  it   \n",
       "1256634                                           interest   \n",
       "\n",
       "                         edge  \n",
       "11                  is useful  \n",
       "31       implicated as likely  \n",
       "86               mount immune  \n",
       "138                     shown  \n",
       "235                        is  \n",
       "...                       ...  \n",
       "1256309                  note  \n",
       "1256416                  fall  \n",
       "1256418             estimated  \n",
       "1256439               predict  \n",
       "1256634               declare  \n",
       "\n",
       "[27316 rows x 4 columns]"
      ]
     },
     "execution_count": 46,
     "metadata": {},
     "output_type": "execute_result"
    }
   ],
   "source": [
    "filtered_df"
   ]
  },
  {
   "cell_type": "code",
   "execution_count": 47,
   "metadata": {},
   "outputs": [],
   "source": [
    "from matplotlib.pyplot import figure, text\n",
    "import networkx as nx\n",
    "import matplotlib.pyplot as plt\n",
    "#this creates a relationship-entity graph based on which ever relationship it is defined here\n",
    "G=nx.from_pandas_edgelist(filtered_df, \"source\", \"target\", \n",
    "                          edge_attr=True, create_using=nx.MultiDiGraph())\n",
    "\n"
   ]
  },
  {
   "cell_type": "code",
   "execution_count": 48,
   "metadata": {},
   "outputs": [
    {
     "data": {
      "text/plain": [
       "<Figure size 1200x1200 with 0 Axes>"
      ]
     },
     "metadata": {},
     "output_type": "display_data"
    }
   ],
   "source": [
    "plt.figure(figsize=(12,12))\n",
    "pos = nx.spring_layout(G, k = 0.5) # k regulates the distance between nodes\n"
   ]
  },
  {
   "cell_type": "code",
   "execution_count": 51,
   "metadata": {},
   "outputs": [],
   "source": [
    "N = 10\n",
    "degrees = dict(G.degree())\n",
    "top_nodes = sorted(degrees, key=degrees.get, reverse=True)[:N]"
   ]
  },
  {
   "cell_type": "code",
   "execution_count": 58,
   "metadata": {},
   "outputs": [
    {
     "ename": "KeyError",
     "evalue": "('patient', 6732)",
     "output_type": "error",
     "traceback": [
      "\u001b[1;31m---------------------------------------------------------------------------\u001b[0m",
      "\u001b[1;31mKeyError\u001b[0m                                  Traceback (most recent call last)",
      "Cell \u001b[1;32mIn[58], line 6\u001b[0m\n\u001b[0;32m      4\u001b[0m labels \u001b[38;5;241m=\u001b[39m {node: node \u001b[38;5;28;01mfor\u001b[39;00m node \u001b[38;5;129;01min\u001b[39;00m top_nodes}\n\u001b[0;32m      5\u001b[0m nx\u001b[38;5;241m.\u001b[39mdraw_networkx_nodes(G, pos, node_size\u001b[38;5;241m=\u001b[39m\u001b[38;5;241m2\u001b[39m, node_color\u001b[38;5;241m=\u001b[39m\u001b[38;5;124m'\u001b[39m\u001b[38;5;124mskyblue\u001b[39m\u001b[38;5;124m'\u001b[39m, alpha\u001b[38;5;241m=\u001b[39m\u001b[38;5;241m0.7\u001b[39m)\n\u001b[1;32m----> 6\u001b[0m \u001b[43mnx\u001b[49m\u001b[38;5;241;43m.\u001b[39;49m\u001b[43mdraw_networkx_labels\u001b[49m\u001b[43m(\u001b[49m\u001b[43mG\u001b[49m\u001b[43m,\u001b[49m\u001b[43m \u001b[49m\u001b[43mpos\u001b[49m\u001b[43m,\u001b[49m\u001b[43m \u001b[49m\u001b[43mlabels\u001b[49m\u001b[43m,\u001b[49m\u001b[43m \u001b[49m\u001b[43mfont_size\u001b[49m\u001b[38;5;241;43m=\u001b[39;49m\u001b[38;5;241;43m2\u001b[39;49m\u001b[43m)\u001b[49m\n\u001b[0;32m      7\u001b[0m nx\u001b[38;5;241m.\u001b[39mdraw_networkx_edges(G, pos, alpha\u001b[38;5;241m=\u001b[39m\u001b[38;5;241m0.1\u001b[39m)\n\u001b[0;32m      9\u001b[0m plt\u001b[38;5;241m.\u001b[39mtitle(\u001b[38;5;124m\"\u001b[39m\u001b[38;5;124mGraph with Labels for Top N Connected Nodes\u001b[39m\u001b[38;5;124m\"\u001b[39m)\n",
      "File \u001b[1;32mc:\\Users\\yaoji\\AppData\\Local\\Programs\\Python\\Python39\\lib\\site-packages\\networkx\\drawing\\nx_pylab.py:1025\u001b[0m, in \u001b[0;36mdraw_networkx_labels\u001b[1;34m(G, pos, labels, font_size, font_color, font_family, font_weight, alpha, bbox, horizontalalignment, verticalalignment, ax, clip_on)\u001b[0m\n\u001b[0;32m   1023\u001b[0m text_items \u001b[38;5;241m=\u001b[39m {}  \u001b[38;5;66;03m# there is no text collection so we'll fake one\u001b[39;00m\n\u001b[0;32m   1024\u001b[0m \u001b[38;5;28;01mfor\u001b[39;00m n, label \u001b[38;5;129;01min\u001b[39;00m labels\u001b[38;5;241m.\u001b[39mitems():\n\u001b[1;32m-> 1025\u001b[0m     (x, y) \u001b[38;5;241m=\u001b[39m \u001b[43mpos\u001b[49m\u001b[43m[\u001b[49m\u001b[43mn\u001b[49m\u001b[43m]\u001b[49m\n\u001b[0;32m   1026\u001b[0m     \u001b[38;5;28;01mif\u001b[39;00m \u001b[38;5;129;01mnot\u001b[39;00m \u001b[38;5;28misinstance\u001b[39m(label, \u001b[38;5;28mstr\u001b[39m):\n\u001b[0;32m   1027\u001b[0m         label \u001b[38;5;241m=\u001b[39m \u001b[38;5;28mstr\u001b[39m(label)  \u001b[38;5;66;03m# this makes \"1\" and 1 labeled the same\u001b[39;00m\n",
      "\u001b[1;31mKeyError\u001b[0m: ('patient', 6732)"
     ]
    },
    {
     "data": {
      "image/png": "[encoded data removed]",
      "text/plain": [
       "<Figure size 640x480 with 1 Axes>"
      ]
     },
     "metadata": {},
     "output_type": "display_data"
    }
   ],
   "source": [
    "nx.draw(G, pos, node_color='skyblue', with_labels=False, edge_color='gray')\n",
    "\n",
    "# Draw labels only for top N nodes\n",
    "labels = {node: node for node in top_nodes}\n",
    "nx.draw_networkx_nodes(G, pos, node_size=2, node_color='skyblue', alpha=0.7)\n",
    "nx.draw_networkx_labels(G, pos, labels, font_size=2)\n",
    "nx.draw_networkx_edges(G, pos, alpha=0.1)\n",
    "\n",
    "plt.title(\"Graph with Labels for Top N Connected Nodes\")\n",
    "plt.axis('off')\n",
    "plt.show()"
   ]
  }
 ],
 "metadata": {
  "kernelspec": {
   "display_name": "Python 3",
   "language": "python",
   "name": "python3"
  },
  "language_info": {
   "codemirror_mode": {
    "name": "ipython",
    "version": 3
   },
   "file_extension": ".py",
   "mimetype": "text/x-python",
   "name": "python",
   "nbconvert_exporter": "python",
   "pygments_lexer": "ipython3",
   "version": "3.9.11"
  }
 },
 "nbformat": 4,
 "nbformat_minor": 2
}
