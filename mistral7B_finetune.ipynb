{
 "cells": [
  {
   "cell_type": "code",
   "execution_count": 9,
   "metadata": {},
   "outputs": [
    {
     "name": "stderr",
     "output_type": "stream",
     "text": [
      "Some weights of DistilBertForQuestionAnswering were not initialized from the model checkpoint at distilbert/distilbert-base-uncased and are newly initialized: ['qa_outputs.bias', 'qa_outputs.weight']\n",
      "You should probably TRAIN this model on a down-stream task to be able to use it for predictions and inference.\n"
     ]
    }
   ],
   "source": [
    "from transformers import AutoTokenizer, AutoModelForQuestionAnswering, TrainingArguments, Trainer\n",
    "\n",
    "tokenizer = AutoTokenizer.from_pretrained(\"distilbert/distilbert-base-uncased\")\n",
    "\n",
    "model = AutoModelForQuestionAnswering.from_pretrained(\"distilbert/distilbert-base-uncased\")"
   ]
  },
  {
   "cell_type": "code",
   "execution_count": 2,
   "metadata": {},
   "outputs": [
    {
     "data": {
      "text/html": [
       "<div>\n",
       "<style scoped>\n",
       "    .dataframe tbody tr th:only-of-type {\n",
       "        vertical-align: middle;\n",
       "    }\n",
       "\n",
       "    .dataframe tbody tr th {\n",
       "        vertical-align: top;\n",
       "    }\n",
       "\n",
       "    .dataframe thead th {\n",
       "        text-align: right;\n",
       "    }\n",
       "</style>\n",
       "<table border=\"1\" class=\"dataframe\">\n",
       "  <thead>\n",
       "    <tr style=\"text-align: right;\">\n",
       "      <th></th>\n",
       "      <th>index</th>\n",
       "      <th>highlighted_sent</th>\n",
       "      <th>answer</th>\n",
       "      <th>question</th>\n",
       "    </tr>\n",
       "  </thead>\n",
       "  <tbody>\n",
       "    <tr>\n",
       "      <th>0</th>\n",
       "      <td>146</td>\n",
       "      <td>Antioxidants are compounds that can delay or i...</td>\n",
       "      <td>oxidative stress</td>\n",
       "      <td>What is a major role of antioxidants in cancer...</td>\n",
       "    </tr>\n",
       "    <tr>\n",
       "      <th>1</th>\n",
       "      <td>153</td>\n",
       "      <td>All kidney transplant recipients at our center...</td>\n",
       "      <td>28 recipients</td>\n",
       "      <td>How many kidney transplant recipients have und...</td>\n",
       "    </tr>\n",
       "    <tr>\n",
       "      <th>2</th>\n",
       "      <td>61</td>\n",
       "      <td>Thrombocytosis, an uncommon side effect of all...</td>\n",
       "      <td>of all trans</td>\n",
       "      <td>What is one side effect of all-trans retinoic ...</td>\n",
       "    </tr>\n",
       "    <tr>\n",
       "      <th>3</th>\n",
       "      <td>55</td>\n",
       "      <td>Disruption risks in supply chains are low-freq...</td>\n",
       "      <td>The existing</td>\n",
       "      <td>What type of interconnectivity could be a key ...</td>\n",
       "    </tr>\n",
       "    <tr>\n",
       "      <th>4</th>\n",
       "      <td>155</td>\n",
       "      <td>The first Covid-19 listed studies with pediatr...</td>\n",
       "      <td>develop neurological symptoms</td>\n",
       "      <td>What is uncertain about the long-term impact o...</td>\n",
       "    </tr>\n",
       "    <tr>\n",
       "      <th>...</th>\n",
       "      <td>...</td>\n",
       "      <td>...</td>\n",
       "      <td>...</td>\n",
       "      <td>...</td>\n",
       "    </tr>\n",
       "    <tr>\n",
       "      <th>2164</th>\n",
       "      <td>3</td>\n",
       "      <td>In early 2020, the emerging respiratory virus ...</td>\n",
       "      <td>high</td>\n",
       "      <td>What type of efficacy does PPE have?</td>\n",
       "    </tr>\n",
       "    <tr>\n",
       "      <th>2165</th>\n",
       "      <td>132</td>\n",
       "      <td>Diedel, a protein secreted from peripheral tis...</td>\n",
       "      <td>peroxide can</td>\n",
       "      <td>What is the name of the enzyme that quenches h...</td>\n",
       "    </tr>\n",
       "    <tr>\n",
       "      <th>2166</th>\n",
       "      <td>35</td>\n",
       "      <td>Animal models are crucial for the study of sev...</td>\n",
       "      <td>The World Health</td>\n",
       "      <td>Who defines zoonotic disease as?</td>\n",
       "    </tr>\n",
       "    <tr>\n",
       "      <th>2167</th>\n",
       "      <td>134</td>\n",
       "      <td>Uganda hosts the largest number of refugees in...</td>\n",
       "      <td>access services</td>\n",
       "      <td>What has the COVID-19 prevention and control s...</td>\n",
       "    </tr>\n",
       "    <tr>\n",
       "      <th>2168</th>\n",
       "      <td>54</td>\n",
       "      <td>For the first time ever we discovered vitrifie...</td>\n",
       "      <td>glassy</td>\n",
       "      <td>What kind of residue was found in the brain ti...</td>\n",
       "    </tr>\n",
       "  </tbody>\n",
       "</table>\n",
       "<p>2169 rows × 4 columns</p>\n",
       "</div>"
      ],
      "text/plain": [
       "      index                                   highlighted_sent  \\\n",
       "0       146  Antioxidants are compounds that can delay or i...   \n",
       "1       153  All kidney transplant recipients at our center...   \n",
       "2        61  Thrombocytosis, an uncommon side effect of all...   \n",
       "3        55  Disruption risks in supply chains are low-freq...   \n",
       "4       155  The first Covid-19 listed studies with pediatr...   \n",
       "...     ...                                                ...   \n",
       "2164      3  In early 2020, the emerging respiratory virus ...   \n",
       "2165    132  Diedel, a protein secreted from peripheral tis...   \n",
       "2166     35  Animal models are crucial for the study of sev...   \n",
       "2167    134  Uganda hosts the largest number of refugees in...   \n",
       "2168     54  For the first time ever we discovered vitrifie...   \n",
       "\n",
       "                             answer  \\\n",
       "0                  oxidative stress   \n",
       "1                     28 recipients   \n",
       "2                      of all trans   \n",
       "3                      The existing   \n",
       "4     develop neurological symptoms   \n",
       "...                             ...   \n",
       "2164                           high   \n",
       "2165                   peroxide can   \n",
       "2166               The World Health   \n",
       "2167                access services   \n",
       "2168                         glassy   \n",
       "\n",
       "                                               question  \n",
       "0     What is a major role of antioxidants in cancer...  \n",
       "1     How many kidney transplant recipients have und...  \n",
       "2     What is one side effect of all-trans retinoic ...  \n",
       "3     What type of interconnectivity could be a key ...  \n",
       "4     What is uncertain about the long-term impact o...  \n",
       "...                                                 ...  \n",
       "2164               What type of efficacy does PPE have?  \n",
       "2165  What is the name of the enzyme that quenches h...  \n",
       "2166                   Who defines zoonotic disease as?  \n",
       "2167  What has the COVID-19 prevention and control s...  \n",
       "2168  What kind of residue was found in the brain ti...  \n",
       "\n",
       "[2169 rows x 4 columns]"
      ]
     },
     "execution_count": 2,
     "metadata": {},
     "output_type": "execute_result"
    }
   ],
   "source": [
    "import pandas as pd\n",
    "df = pd.read_csv('../question_answer_pair.csv')\n",
    "df"
   ]
  },
  {
   "cell_type": "code",
   "execution_count": 3,
   "metadata": {},
   "outputs": [],
   "source": [
    "# Remove all occurrences of \"[HL]\" from the 'highlighted_sent' column\n",
    "df['context'] = df['highlighted_sent'].str.replace(r\"\\[HL\\]\", \"\", regex=True)\n",
    "df = df.rename(columns={\"answer\": \"answers\"})\n",
    "\n",
    "# Convert the updated DataFrame to a list of dictionaries for question-answering\n",
    "qa_data_cleaned = df[['question', 'answers', 'context']]\n"
   ]
  },
  {
   "cell_type": "code",
   "execution_count": 4,
   "metadata": {},
   "outputs": [
    {
     "name": "stderr",
     "output_type": "stream",
     "text": [
      "C:\\Users\\yaoji\\AppData\\Local\\Temp\\ipykernel_6008\\775699054.py:10: SettingWithCopyWarning: \n",
      "A value is trying to be set on a copy of a slice from a DataFrame.\n",
      "Try using .loc[row_indexer,col_indexer] = value instead\n",
      "\n",
      "See the caveats in the documentation: https://pandas.pydata.org/pandas-docs/stable/user_guide/indexing.html#returning-a-view-versus-a-copy\n",
      "  qa_data_cleaned['answers'] = qa_data_cleaned.apply(lambda row: {'text': [row['answers']], 'answer_start': [find_answer_start(row['context'], row['answers'])]}, axis=1)\n"
     ]
    },
    {
     "data": {
      "text/html": [
       "<div>\n",
       "<style scoped>\n",
       "    .dataframe tbody tr th:only-of-type {\n",
       "        vertical-align: middle;\n",
       "    }\n",
       "\n",
       "    .dataframe tbody tr th {\n",
       "        vertical-align: top;\n",
       "    }\n",
       "\n",
       "    .dataframe thead th {\n",
       "        text-align: right;\n",
       "    }\n",
       "</style>\n",
       "<table border=\"1\" class=\"dataframe\">\n",
       "  <thead>\n",
       "    <tr style=\"text-align: right;\">\n",
       "      <th></th>\n",
       "      <th>question</th>\n",
       "      <th>answers</th>\n",
       "      <th>context</th>\n",
       "    </tr>\n",
       "  </thead>\n",
       "  <tbody>\n",
       "    <tr>\n",
       "      <th>0</th>\n",
       "      <td>What is a major role of antioxidants in cancer...</td>\n",
       "      <td>{'text': ['oxidative stress'], 'answer_start':...</td>\n",
       "      <td>Antioxidants are compounds that can delay or i...</td>\n",
       "    </tr>\n",
       "    <tr>\n",
       "      <th>1</th>\n",
       "      <td>How many kidney transplant recipients have und...</td>\n",
       "      <td>{'text': ['28 recipients'], 'answer_start': [1...</td>\n",
       "      <td>All kidney transplant recipients at our center...</td>\n",
       "    </tr>\n",
       "    <tr>\n",
       "      <th>2</th>\n",
       "      <td>What is one side effect of all-trans retinoic ...</td>\n",
       "      <td>{'text': ['of all trans'], 'answer_start': [-1]}</td>\n",
       "      <td>Thrombocytosis, an uncommon side effect of all...</td>\n",
       "    </tr>\n",
       "    <tr>\n",
       "      <th>3</th>\n",
       "      <td>What type of interconnectivity could be a key ...</td>\n",
       "      <td>{'text': ['The existing'], 'answer_start': [308]}</td>\n",
       "      <td>Disruption risks in supply chains are low-freq...</td>\n",
       "    </tr>\n",
       "    <tr>\n",
       "      <th>4</th>\n",
       "      <td>What is uncertain about the long-term impact o...</td>\n",
       "      <td>{'text': ['develop neurological symptoms'], 'a...</td>\n",
       "      <td>The first Covid-19 listed studies with pediatr...</td>\n",
       "    </tr>\n",
       "    <tr>\n",
       "      <th>...</th>\n",
       "      <td>...</td>\n",
       "      <td>...</td>\n",
       "      <td>...</td>\n",
       "    </tr>\n",
       "    <tr>\n",
       "      <th>2164</th>\n",
       "      <td>What type of efficacy does PPE have?</td>\n",
       "      <td>{'text': ['high'], 'answer_start': [324]}</td>\n",
       "      <td>In early 2020, the emerging respiratory virus ...</td>\n",
       "    </tr>\n",
       "    <tr>\n",
       "      <th>2165</th>\n",
       "      <td>What is the name of the enzyme that quenches h...</td>\n",
       "      <td>{'text': ['peroxide can'], 'answer_start': [-1]}</td>\n",
       "      <td>Diedel, a protein secreted from peripheral tis...</td>\n",
       "    </tr>\n",
       "    <tr>\n",
       "      <th>2166</th>\n",
       "      <td>Who defines zoonotic disease as?</td>\n",
       "      <td>{'text': ['The World Health'], 'answer_start':...</td>\n",
       "      <td>Animal models are crucial for the study of sev...</td>\n",
       "    </tr>\n",
       "    <tr>\n",
       "      <th>2167</th>\n",
       "      <td>What has the COVID-19 prevention and control s...</td>\n",
       "      <td>{'text': ['access services'], 'answer_start': ...</td>\n",
       "      <td>Uganda hosts the largest number of refugees in...</td>\n",
       "    </tr>\n",
       "    <tr>\n",
       "      <th>2168</th>\n",
       "      <td>What kind of residue was found in the brain ti...</td>\n",
       "      <td>{'text': ['glassy'], 'answer_start': [265]}</td>\n",
       "      <td>For the first time ever we discovered vitrifie...</td>\n",
       "    </tr>\n",
       "  </tbody>\n",
       "</table>\n",
       "<p>2169 rows × 3 columns</p>\n",
       "</div>"
      ],
      "text/plain": [
       "                                               question  \\\n",
       "0     What is a major role of antioxidants in cancer...   \n",
       "1     How many kidney transplant recipients have und...   \n",
       "2     What is one side effect of all-trans retinoic ...   \n",
       "3     What type of interconnectivity could be a key ...   \n",
       "4     What is uncertain about the long-term impact o...   \n",
       "...                                                 ...   \n",
       "2164               What type of efficacy does PPE have?   \n",
       "2165  What is the name of the enzyme that quenches h...   \n",
       "2166                   Who defines zoonotic disease as?   \n",
       "2167  What has the COVID-19 prevention and control s...   \n",
       "2168  What kind of residue was found in the brain ti...   \n",
       "\n",
       "                                                answers  \\\n",
       "0     {'text': ['oxidative stress'], 'answer_start':...   \n",
       "1     {'text': ['28 recipients'], 'answer_start': [1...   \n",
       "2      {'text': ['of all trans'], 'answer_start': [-1]}   \n",
       "3     {'text': ['The existing'], 'answer_start': [308]}   \n",
       "4     {'text': ['develop neurological symptoms'], 'a...   \n",
       "...                                                 ...   \n",
       "2164          {'text': ['high'], 'answer_start': [324]}   \n",
       "2165   {'text': ['peroxide can'], 'answer_start': [-1]}   \n",
       "2166  {'text': ['The World Health'], 'answer_start':...   \n",
       "2167  {'text': ['access services'], 'answer_start': ...   \n",
       "2168        {'text': ['glassy'], 'answer_start': [265]}   \n",
       "\n",
       "                                                context  \n",
       "0     Antioxidants are compounds that can delay or i...  \n",
       "1     All kidney transplant recipients at our center...  \n",
       "2     Thrombocytosis, an uncommon side effect of all...  \n",
       "3     Disruption risks in supply chains are low-freq...  \n",
       "4     The first Covid-19 listed studies with pediatr...  \n",
       "...                                                 ...  \n",
       "2164  In early 2020, the emerging respiratory virus ...  \n",
       "2165  Diedel, a protein secreted from peripheral tis...  \n",
       "2166  Animal models are crucial for the study of sev...  \n",
       "2167  Uganda hosts the largest number of refugees in...  \n",
       "2168  For the first time ever we discovered vitrifie...  \n",
       "\n",
       "[2169 rows x 3 columns]"
      ]
     },
     "execution_count": 4,
     "metadata": {},
     "output_type": "execute_result"
    }
   ],
   "source": [
    "import pandas as pd\n",
    "\n",
    "# Assuming df is your pandas DataFrame\n",
    "\n",
    "# Define a function to find the start position of the answer in the context\n",
    "def find_answer_start(context, answer):\n",
    "    return context.find(answer)\n",
    "\n",
    "# Adjust the 'answers' column to match the expected structure\n",
    "qa_data_cleaned['answers'] = qa_data_cleaned.apply(lambda row: {'text': [row['answers']], 'answer_start': [find_answer_start(row['context'], row['answers'])]}, axis=1)\n",
    "\n",
    "# Show the updated DataFrame\n",
    "qa_data_cleaned"
   ]
  },
  {
   "cell_type": "code",
   "execution_count": 5,
   "metadata": {},
   "outputs": [],
   "source": [
    "def preprocess_function(examples):\n",
    "    questions = [q.strip() for q in examples[\"question\"]]\n",
    "    inputs = tokenizer(\n",
    "        questions,\n",
    "        examples[\"context\"],\n",
    "        max_length=384,\n",
    "        truncation=\"only_second\",\n",
    "        return_offsets_mapping=True,\n",
    "        padding=\"max_length\",\n",
    "    )\n",
    "\n",
    "    offset_mapping = inputs.pop(\"offset_mapping\")\n",
    "    answers = examples[\"answers\"]\n",
    "    start_positions = []\n",
    "    end_positions = []\n",
    "\n",
    "    for i, offset in enumerate(offset_mapping):\n",
    "        answer = answers[i]\n",
    "        start_char = answer[\"answer_start\"][0]\n",
    "        end_char = answer[\"answer_start\"][0] + len(answer[\"text\"][0])\n",
    "        sequence_ids = inputs.sequence_ids(i)\n",
    "\n",
    "        # Find the start and end of the context\n",
    "        idx = 0\n",
    "        while sequence_ids[idx] != 1:\n",
    "            idx += 1\n",
    "        context_start = idx\n",
    "        while sequence_ids[idx] == 1:\n",
    "            idx += 1\n",
    "        context_end = idx - 1\n",
    "\n",
    "        # If the answer is not fully inside the context, label it (0, 0)\n",
    "        if offset[context_start][0] > end_char or offset[context_end][1] < start_char:\n",
    "            start_positions.append(0)\n",
    "            end_positions.append(0)\n",
    "        else:\n",
    "            # Otherwise it's the start and end token positions\n",
    "            idx = context_start\n",
    "            while idx <= context_end and offset[idx][0] <= start_char:\n",
    "                idx += 1\n",
    "            start_positions.append(idx - 1)\n",
    "\n",
    "            idx = context_end\n",
    "            while idx >= context_start and offset[idx][1] >= end_char:\n",
    "                idx -= 1\n",
    "            end_positions.append(idx + 1)\n",
    "\n",
    "    inputs[\"start_positions\"] = start_positions\n",
    "    inputs[\"end_positions\"] = end_positions\n",
    "    return inputs"
   ]
  },
  {
   "cell_type": "code",
   "execution_count": 6,
   "metadata": {},
   "outputs": [
    {
     "name": "stderr",
     "output_type": "stream",
     "text": [
      "Map: 100%|██████████| 1735/1735 [00:00<00:00, 3768.96 examples/s]\n",
      "Map: 100%|██████████| 434/434 [00:00<00:00, 3685.22 examples/s]\n"
     ]
    }
   ],
   "source": [
    "from datasets import Dataset\n",
    "data_dicts = qa_data_cleaned.to_dict('records')\n",
    "dataset = Dataset.from_pandas(pd.DataFrame(data_dicts))\n",
    "dataset = dataset.train_test_split(test_size=0.2)\n",
    "\n",
    "tokenized_dataset = dataset.map(preprocess_function, batched=True, remove_columns=['question', 'answers', 'context'])"
   ]
  },
  {
   "cell_type": "code",
   "execution_count": 7,
   "metadata": {},
   "outputs": [],
   "source": [
    "from torch.utils.data import DataLoader\n",
    "from transformers import DataCollatorWithPadding\n",
    "\n",
    "# Initialize the data collator\n",
    "data_collator = DataCollatorWithPadding(tokenizer=tokenizer, return_tensors=\"pt\")\n",
    "\n",
    "# Assuming `tokenized_dataset` is your DatasetDict after applying preprocess_function\n",
    "\n",
    "# Convert the 'train' and 'test' splits to PyTorch DataLoader\n",
    "train_dataloader = DataLoader(\n",
    "    tokenized_dataset[\"train\"],\n",
    "    shuffle=True,\n",
    "    batch_size=16,\n",
    "    collate_fn=data_collator,\n",
    ")\n",
    "\n",
    "validation_dataloader = DataLoader(\n",
    "    tokenized_dataset[\"test\"],\n",
    "    shuffle=False,\n",
    "    batch_size=16,\n",
    "    collate_fn=data_collator,\n",
    ")"
   ]
  },
  {
   "cell_type": "code",
   "execution_count": 10,
   "metadata": {},
   "outputs": [
    {
     "name": "stderr",
     "output_type": "stream",
     "text": [
      "                                                 \n",
      " 33%|███▎      | 109/327 [11:46<19:08,  5.27s/it]"
     ]
    },
    {
     "name": "stdout",
     "output_type": "stream",
     "text": [
      "{'eval_loss': 3.738853931427002, 'eval_runtime': 60.4406, 'eval_samples_per_second': 7.181, 'eval_steps_per_second': 0.463, 'epoch': 1.0}\n"
     ]
    },
    {
     "name": "stderr",
     "output_type": "stream",
     "text": [
      "                                                   \n",
      " 67%|██████▋   | 218/327 [23:25<08:52,  4.89s/it]"
     ]
    },
    {
     "name": "stdout",
     "output_type": "stream",
     "text": [
      "{'eval_loss': 3.189769744873047, 'eval_runtime': 59.1537, 'eval_samples_per_second': 7.337, 'eval_steps_per_second': 0.473, 'epoch': 2.0}\n"
     ]
    },
    {
     "name": "stderr",
     "output_type": "stream",
     "text": [
      "                                                 \n",
      "100%|██████████| 327/327 [35:00<00:00,  6.42s/it]"
     ]
    },
    {
     "name": "stdout",
     "output_type": "stream",
     "text": [
      "{'eval_loss': 3.124058246612549, 'eval_runtime': 59.207, 'eval_samples_per_second': 7.33, 'eval_steps_per_second': 0.473, 'epoch': 3.0}\n",
      "{'train_runtime': 2100.055, 'train_samples_per_second': 2.479, 'train_steps_per_second': 0.156, 'train_loss': 3.680132851323586, 'epoch': 3.0}\n"
     ]
    },
    {
     "name": "stderr",
     "output_type": "stream",
     "text": [
      "\n"
     ]
    },
    {
     "data": {
      "text/plain": [
       "TrainOutput(global_step=327, training_loss=3.680132851323586, metrics={'train_runtime': 2100.055, 'train_samples_per_second': 2.479, 'train_steps_per_second': 0.156, 'train_loss': 3.680132851323586, 'epoch': 3.0})"
      ]
     },
     "execution_count": 10,
     "metadata": {},
     "output_type": "execute_result"
    }
   ],
   "source": [
    "from transformers import AutoModelForQuestionAnswering, TrainingArguments, Trainer\n",
    "\n",
    "training_args = TrainingArguments(\n",
    "    output_dir=\"my_awesome_qa_model\",\n",
    "    evaluation_strategy=\"epoch\",\n",
    "    learning_rate=2e-5,\n",
    "    per_device_train_batch_size=16,\n",
    "    per_device_eval_batch_size=16,\n",
    "    num_train_epochs=3,\n",
    "    weight_decay=0.01,\n",
    "    push_to_hub=False,\n",
    ")\n",
    "\n",
    "trainer = Trainer(\n",
    "    model=model,\n",
    "    args=training_args,\n",
    "    train_dataset=tokenized_dataset[\"train\"],\n",
    "    eval_dataset=tokenized_dataset[\"test\"],\n",
    "    tokenizer=tokenizer,\n",
    "    data_collator=data_collator,\n",
    ")\n",
    "\n",
    "trainer.train()"
   ]
  },
  {
   "cell_type": "code",
   "execution_count": 31,
   "metadata": {},
   "outputs": [],
   "source": [
    "question = \"What does COVID-19 aim to protect?\"\n",
    "context = \"More than 35 million people worldwide are currently addicted to drugs. COVID-19 has created new routes for drug trafficking that increase the risk of drug addiction, making it vital to address this problem. The aim is to effectively protect the [HL]physical health[HL] of PWUD and prevent the combination of CO VID-19 and the physiological and psychological effects of drugs from affecting relapse behaviour.\""
   ]
  },
  {
   "cell_type": "code",
   "execution_count": 23,
   "metadata": {},
   "outputs": [],
   "source": [
    "import torch\n",
    "torch.save(model.state_dict(), '../model/model_weights.pth')"
   ]
  },
  {
   "cell_type": "code",
   "execution_count": 24,
   "metadata": {},
   "outputs": [
    {
     "name": "stderr",
     "output_type": "stream",
     "text": [
      "Some weights of DistilBertForQuestionAnswering were not initialized from the model checkpoint at distilbert/distilbert-base-uncased and are newly initialized: ['qa_outputs.bias', 'qa_outputs.weight']\n",
      "You should probably TRAIN this model on a down-stream task to be able to use it for predictions and inference.\n"
     ]
    },
    {
     "data": {
      "text/plain": [
       "DistilBertForQuestionAnswering(\n",
       "  (distilbert): DistilBertModel(\n",
       "    (embeddings): Embeddings(\n",
       "      (word_embeddings): Embedding(30522, 768, padding_idx=0)\n",
       "      (position_embeddings): Embedding(512, 768)\n",
       "      (LayerNorm): LayerNorm((768,), eps=1e-12, elementwise_affine=True)\n",
       "      (dropout): Dropout(p=0.1, inplace=False)\n",
       "    )\n",
       "    (transformer): Transformer(\n",
       "      (layer): ModuleList(\n",
       "        (0-5): 6 x TransformerBlock(\n",
       "          (attention): MultiHeadSelfAttention(\n",
       "            (dropout): Dropout(p=0.1, inplace=False)\n",
       "            (q_lin): Linear(in_features=768, out_features=768, bias=True)\n",
       "            (k_lin): Linear(in_features=768, out_features=768, bias=True)\n",
       "            (v_lin): Linear(in_features=768, out_features=768, bias=True)\n",
       "            (out_lin): Linear(in_features=768, out_features=768, bias=True)\n",
       "          )\n",
       "          (sa_layer_norm): LayerNorm((768,), eps=1e-12, elementwise_affine=True)\n",
       "          (ffn): FFN(\n",
       "            (dropout): Dropout(p=0.1, inplace=False)\n",
       "            (lin1): Linear(in_features=768, out_features=3072, bias=True)\n",
       "            (lin2): Linear(in_features=3072, out_features=768, bias=True)\n",
       "            (activation): GELUActivation()\n",
       "          )\n",
       "          (output_layer_norm): LayerNorm((768,), eps=1e-12, elementwise_affine=True)\n",
       "        )\n",
       "      )\n",
       "    )\n",
       "  )\n",
       "  (qa_outputs): Linear(in_features=768, out_features=2, bias=True)\n",
       "  (dropout): Dropout(p=0.1, inplace=False)\n",
       ")"
      ]
     },
     "execution_count": 24,
     "metadata": {},
     "output_type": "execute_result"
    }
   ],
   "source": [
    "model = AutoModelForQuestionAnswering.from_pretrained(\"distilbert/distilbert-base-uncased\")\n",
    "model.load_state_dict(torch.load('../model/model_weights.pth'))\n",
    "model.eval()"
   ]
  },
  {
   "cell_type": "code",
   "execution_count": 32,
   "metadata": {},
   "outputs": [
    {
     "data": {
      "text/plain": [
       "{'score': 0.017759479582309723,\n",
       " 'start': 249,\n",
       " 'end': 264,\n",
       " 'answer': 'physical health'}"
      ]
     },
     "execution_count": 32,
     "metadata": {},
     "output_type": "execute_result"
    }
   ],
   "source": [
    "from transformers import pipeline\n",
    "\n",
    "question_answerer = pipeline(\"question-answering\", model=model, tokenizer=tokenizer)\n",
    "question_answerer(question=question, context=context)"
   ]
  }
 ],
 "metadata": {
  "kernelspec": {
   "display_name": "Python 3",
   "language": "python",
   "name": "python3"
  },
  "language_info": {
   "codemirror_mode": {
    "name": "ipython",
    "version": 3
   },
   "file_extension": ".py",
   "mimetype": "text/x-python",
   "name": "python",
   "nbconvert_exporter": "python",
   "pygments_lexer": "ipython3",
   "version": "3.9.11"
  }
 },
 "nbformat": 4,
 "nbformat_minor": 2
}
